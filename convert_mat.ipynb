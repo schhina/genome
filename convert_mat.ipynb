{
 "cells": [
  {
   "cell_type": "code",
   "execution_count": 1,
   "id": "f3fd476e-5232-47dc-be00-50f925dd0109",
   "metadata": {},
   "outputs": [],
   "source": [
    "import os\n",
    "import numpy as np\n",
    "import pandas as pd\n",
    "import anndata as ad\n",
    "\n",
    "# The data given is split up into multiple matrix files\n",
    "# This notebook will parse each of these matrix files as a pandas dataframe and store it as an anndata object\n",
    "# This step is needed because anndata files are much easier to work with for single cell analysis"
   ]
  },
  {
   "cell_type": "code",
   "execution_count": 2,
   "id": "6be1665d-7f18-40a7-98f0-53fe77736917",
   "metadata": {},
   "outputs": [],
   "source": [
    "def get_file_names():\n",
    "  with open('/u/scratch/s/schhina/filenames.txt', 'r') as f:\n",
    "    return [l.split('\\n')[0] for l in f.readlines()]"
   ]
  },
  {
   "cell_type": "code",
   "execution_count": 3,
   "id": "316c6513-1ef1-49f1-bffe-3f5a8adb21eb",
   "metadata": {},
   "outputs": [],
   "source": [
    "input_prefix = \"/u/scratch/s/schhina/t_cell_data/\"\n",
    "output_prefix = \"/u/scratch/s/schhina/cleaned_data/\"\n",
    "file_names = get_file_names()"
   ]
  },
  {
   "cell_type": "code",
   "execution_count": 12,
   "id": "34dafbf2-bae2-43b9-bb9d-f6266b500fbd",
   "metadata": {},
   "outputs": [
    {
     "name": "stdout",
     "output_type": "stream",
     "text": [
      "0 -> GSM3589406_PP001swap.filtered.matrix.txt\n",
      "1 -> GSM3589407_PP002swap.filtered.matrix.txt\n",
      "2 -> GSM3589408_PP003swap.filtered.matrix.txt\n",
      "3 -> GSM3589409_PP004swap.filtered.matrix.txt\n",
      "4 -> GSM3589410_PP005swap.filtered.matrix.txt\n",
      "5 -> GSM3589411_PP006swap.filtered.matrix.txt\n",
      "6 -> GSM3589412_PP009swap.filtered.matrix.txt\n",
      "7 -> GSM3589413_PP010swap.filtered.matrix.txt\n",
      "8 -> GSM3589414_PP011swap.filtered.matrix.txt\n",
      "9 -> GSM3589415_PP012swap.filtered.matrix.txt\n",
      "10 -> GSM3589416_PP013swap.filtered.matrix.txt\n",
      "11 -> GSM3589417_PP014swap.filtered.matrix.txt\n",
      "12 -> GSM3589418_PP017swap.filtered.matrix.txt\n",
      "13 -> GSM3589419_PP018swap.filtered.matrix.txt\n",
      "14 -> GSM3589420_PP019swap.filtered.matrix.txt\n",
      "15 -> GSM3589421_PP020swap.filtered.matrix.txt\n"
     ]
    }
   ],
   "source": [
    "for i, n in enumerate(file_names):\n",
    "    print(f\"{i} -> {n}\")\n",
    "        \n",
    "    df = pd.read_csv(input_prefix + n, sep=\"\t\", header=[0], index_col=[0, 1])\n",
    "    df = df.loc[:, ~df.columns.str.contains('^Unnamed')]\n",
    "    df = df.T\n",
    "\n",
    "    # Uncomment to filter based on gene names (currently filtering based on ensembl id which is already unique) \n",
    "    # mappings = {}\n",
    "    # best_ids = {}\n",
    "    # for e, n in df.columns.to_list():\n",
    "    #   if n not in mappings:\n",
    "    #       mappings[n] = []\n",
    "    #   mappings[n].append(e)\n",
    "\n",
    "    # for n, all_ids in mappings.items():\n",
    "    #   ind = np.argmax(np.array([df[(v, n)].sum() for v in all_ids]))\n",
    "    #   best_ids[n] = all_ids[ind]\n",
    "\n",
    "    # df = df[[*[(i, n) for n, i in best_ids.items()]]]\n",
    "\n",
    "    df = df.T\n",
    "    df = df.reset_index(['Gene'])\n",
    "    df = df.loc[:, ~df.columns.str.contains('^Gene')]\n",
    "    df = df.T\n",
    "    temp_adata = ad.AnnData(df)\n",
    "    temp_adata.write(output_prefix + f'mat_{i}_anndata.h5ad')"
   ]
  },
  {
   "cell_type": "code",
   "execution_count": null,
   "id": "3cfb2139-d62b-4846-81fe-c4aea2cfa6d6",
   "metadata": {},
   "outputs": [],
   "source": []
  }
 ],
 "metadata": {
  "kernelspec": {
   "display_name": "geneformer_env",
   "language": "python",
   "name": "geneformer_env"
  },
  "language_info": {
   "codemirror_mode": {
    "name": "ipython",
    "version": 3
   },
   "file_extension": ".py",
   "mimetype": "text/x-python",
   "name": "python",
   "nbconvert_exporter": "python",
   "pygments_lexer": "ipython3",
   "version": "3.11.5"
  }
 },
 "nbformat": 4,
 "nbformat_minor": 5
}
