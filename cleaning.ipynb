{
 "cells": [
  {
   "cell_type": "code",
   "execution_count": 1,
   "id": "04fa27c2-a018-49ab-9d71-fd9ff974242f",
   "metadata": {},
   "outputs": [],
   "source": [
    "import numpy as np\n",
    "import pandas as pd\n",
    "import anndata as ad\n",
    "from math import ceil"
   ]
  },
  {
   "cell_type": "code",
   "execution_count": 2,
   "id": "c63788d9-753a-4157-9ea5-e7eb27ae8ee3",
   "metadata": {},
   "outputs": [
    {
     "name": "stderr",
     "output_type": "stream",
     "text": [
      "/u/home/s/schhina/.conda/envs/geneformer_env/lib/python3.11/site-packages/anndata/_core/anndata.py:1906: UserWarning: Observation names are not unique. To make them unique, call `.obs_names_make_unique`.\n",
      "  utils.warn_names_duplicates(\"obs\")\n"
     ]
    }
   ],
   "source": [
    "adata = ad.read_h5ad('/u/scratch/s/schhina/all_t_cell_data.h5ad')"
   ]
  },
  {
   "cell_type": "code",
   "execution_count": 3,
   "id": "3557a54e-d754-45c3-aa10-01cf0ca53f30",
   "metadata": {},
   "outputs": [
    {
     "data": {
      "text/plain": [
       "AnnData object with n_obs × n_vars = 63861 × 60725"
      ]
     },
     "execution_count": 3,
     "metadata": {},
     "output_type": "execute_result"
    }
   ],
   "source": [
    "adata"
   ]
  },
  {
   "cell_type": "code",
   "execution_count": 4,
   "id": "b5e917eb-c14f-405e-8b90-979a272c6b99",
   "metadata": {},
   "outputs": [],
   "source": [
    "act_data_path = '/u/scratch/s/schhina/41467_2019_12464_MOESM9_ESM.xlsx'\n",
    "\n",
    "def get_stimulation():\n",
    "    barcode_acts = {}\n",
    "    dups = set()\n",
    "    barcode_cds = {}\n",
    "    \n",
    "    df = pd.read_excel(act_data_path, sheet_name=\"Fig6\")\n",
    "    i = 0\n",
    "    for barcode, act, cd in zip(df['barcode'], df['stimulation_status'], df['cd4cd8_status']):\n",
    "        if cd == 'unassigned':\n",
    "            continue\n",
    "            \n",
    "        if barcode in barcode_acts:\n",
    "            dups.add(barcode)\n",
    "            del barcode_acts[barcode]\n",
    "            del barcode_cds[barcode]\n",
    "        elif barcode not in dups:\n",
    "            barcode_acts[barcode] = act\n",
    "            barcode_cds[barcode] = cd\n",
    "\n",
    "        i += 1\n",
    "    return barcode_acts, barcode_cds, dups"
   ]
  },
  {
   "cell_type": "code",
   "execution_count": 5,
   "id": "4cce67ca-389c-4f3d-ab65-5160db73cbce",
   "metadata": {},
   "outputs": [],
   "source": [
    "acts, cds, dups = get_stimulation()"
   ]
  },
  {
   "cell_type": "code",
   "execution_count": 6,
   "id": "803ba2a7-09fe-435e-ace8-8e725b0bb11c",
   "metadata": {},
   "outputs": [
    {
     "data": {
      "text/plain": [
       "47726"
      ]
     },
     "execution_count": 6,
     "metadata": {},
     "output_type": "execute_result"
    }
   ],
   "source": [
    "len(acts)"
   ]
  },
  {
   "cell_type": "code",
   "execution_count": 7,
   "id": "c81d444b-decf-40af-b983-cbc9e230db38",
   "metadata": {},
   "outputs": [],
   "source": [
    "seen = set()\n",
    "def add(bc, i):\n",
    "    seen.add(bc)\n",
    "    return i"
   ]
  },
  {
   "cell_type": "code",
   "execution_count": 8,
   "id": "0dd3f7c2-df99-44ef-99f0-00672034cd8f",
   "metadata": {},
   "outputs": [],
   "source": [
    "# Trim duplicates\n",
    "valid_inds = np.array([add(adata.obs.iloc[x].name, x) for x in np.arange(adata.n_obs) if (adata.obs.iloc[x].name not in dups and adata.obs.iloc[x].name in acts and adata.obs.iloc[x].name not in seen)])\n",
    "adata = ad.AnnData(adata.to_df().iloc[valid_inds, :])"
   ]
  },
  {
   "cell_type": "code",
   "execution_count": 9,
   "id": "38572cad-22f2-4339-a427-a9f94cfc18be",
   "metadata": {},
   "outputs": [],
   "source": [
    "# Label obs\n",
    "adata.obs['stimulation'] = [acts[bc] for bc, v in adata.obs.iterrows()]"
   ]
  },
  {
   "cell_type": "code",
   "execution_count": 10,
   "id": "cfc58b90-f7db-4bb2-9e54-cdc9a3c6bae8",
   "metadata": {},
   "outputs": [],
   "source": [
    "adata.obs['cd_status'] = [cds[bc] for bc, v in adata.obs.iterrows()]"
   ]
  },
  {
   "cell_type": "code",
   "execution_count": 11,
   "id": "2e0be61b-21f3-4e8e-aead-f165d3b0d3ee",
   "metadata": {},
   "outputs": [
    {
     "data": {
      "text/plain": [
       "ACCCACTTCTCGATGA    CD8\n",
       "GATCAGTTCAAACCGT    CD4\n",
       "TGACTTTCAATGGATA    CD8\n",
       "CAAGATCTCTTGGGTA    CD8\n",
       "CATCCACGTCACCTAA    CD8\n",
       "                   ... \n",
       "GCGCCAACACCGCTAG    CD8\n",
       "CCTACACGTCTCCCTA    CD4\n",
       "TCGCGAGCAGGAATCG    CD4\n",
       "GGGAGATTCACCCGAG    CD8\n",
       "GTCAAGTAGTCATGCT    CD4\n",
       "Name: cd_status, Length: 47726, dtype: object"
      ]
     },
     "execution_count": 11,
     "metadata": {},
     "output_type": "execute_result"
    }
   ],
   "source": [
    "adata.obs['cd_status']"
   ]
  },
  {
   "cell_type": "code",
   "execution_count": 12,
   "id": "08ad98ef-3bd2-43c7-b7da-36f6e81a17f1",
   "metadata": {},
   "outputs": [],
   "source": [
    "adata.write(\"/u/scratch/s/schhina/labeled_t_cell_data.h5ad\")"
   ]
  },
  {
   "cell_type": "code",
   "execution_count": 13,
   "id": "f9672815-3ff9-4a95-b4e8-ba3c3a54af93",
   "metadata": {},
   "outputs": [
    {
     "data": {
      "text/plain": [
       "AnnData object with n_obs × n_vars = 47726 × 58828\n",
       "    obs: 'stimulation', 'cd_status'"
      ]
     },
     "execution_count": 13,
     "metadata": {},
     "output_type": "execute_result"
    }
   ],
   "source": [
    "adata"
   ]
  },
  {
   "cell_type": "code",
   "execution_count": 11,
   "id": "fbf903db-6229-4b17-ae74-b9ac3f89b5a3",
   "metadata": {},
   "outputs": [],
   "source": [
    "# Get only active cells\n",
    "valid_inds = np.array([i for i in np.arange(adata.n_obs) if acts[adata.obs.iloc[i].name] == 'act'])\n",
    "active_adata = ad.AnnData(adata.to_df().iloc[valid_inds, :])"
   ]
  },
  {
   "cell_type": "code",
   "execution_count": 12,
   "id": "5ce8786e-c5b9-4359-b9e8-ca68f1cf0876",
   "metadata": {},
   "outputs": [
    {
     "data": {
      "text/plain": [
       "AnnData object with n_obs × n_vars = 24761 × 58828"
      ]
     },
     "execution_count": 12,
     "metadata": {},
     "output_type": "execute_result"
    }
   ],
   "source": [
    "active_adata"
   ]
  },
  {
   "cell_type": "code",
   "execution_count": 13,
   "id": "ffa5f2fd-6e62-4116-877a-b43789ebe333",
   "metadata": {},
   "outputs": [
    {
     "ename": "NameError",
     "evalue": "name 'active_adata' is not defined",
     "output_type": "error",
     "traceback": [
      "\u001b[0;31m---------------------------------------------------------------------------\u001b[0m",
      "\u001b[0;31mNameError\u001b[0m                                 Traceback (most recent call last)",
      "Cell \u001b[0;32mIn[13], line 1\u001b[0m\n\u001b[0;32m----> 1\u001b[0m active_adata\u001b[38;5;241m.\u001b[39mwrite(\u001b[38;5;124m\"\u001b[39m\u001b[38;5;124m/u/scratch/s/schhina/labeled_active_t_cell_data.h5ad\u001b[39m\u001b[38;5;124m\"\u001b[39m)\n",
      "\u001b[0;31mNameError\u001b[0m: name 'active_adata' is not defined"
     ]
    }
   ],
   "source": [
    "active_adata.write(\"/u/scratch/s/schhina/labeled_active_t_cell_data.h5ad\")"
   ]
  },
  {
   "cell_type": "code",
   "execution_count": 2,
   "id": "5b70bef5-1ce6-4367-8363-946df8ff8fbf",
   "metadata": {},
   "outputs": [
    {
     "name": "stderr",
     "output_type": "stream",
     "text": [
      "/u/home/s/schhina/.conda/envs/geneformer_env/lib/python3.11/site-packages/anndata/_core/anndata.py:1906: UserWarning: Observation names are not unique. To make them unique, call `.obs_names_make_unique`.\n",
      "  utils.warn_names_duplicates(\"obs\")\n"
     ]
    }
   ],
   "source": [
    "adata = ad.read_h5ad(\"/u/scratch/s/schhina/labeled_t_cell_data.h5ad\")"
   ]
  },
  {
   "cell_type": "code",
   "execution_count": 23,
   "id": "d2b99ced-e7a4-46fc-b2db-b75f78ddcf7b",
   "metadata": {},
   "outputs": [
    {
     "data": {
      "text/html": [
       "<div>\n",
       "<style scoped>\n",
       "    .dataframe tbody tr th:only-of-type {\n",
       "        vertical-align: middle;\n",
       "    }\n",
       "\n",
       "    .dataframe tbody tr th {\n",
       "        vertical-align: top;\n",
       "    }\n",
       "\n",
       "    .dataframe thead th {\n",
       "        text-align: right;\n",
       "    }\n",
       "</style>\n",
       "<table border=\"1\" class=\"dataframe\">\n",
       "  <thead>\n",
       "    <tr style=\"text-align: right;\">\n",
       "      <th>Accession</th>\n",
       "      <th>ENSG00000180346.3</th>\n",
       "      <th>ENSG00000185800.11</th>\n",
       "      <th>ENSG00000255389.1</th>\n",
       "      <th>ENSG00000147059.8</th>\n",
       "      <th>ENSG00000238045.9</th>\n",
       "      <th>ENSG00000056972.18</th>\n",
       "      <th>ENSG00000198920.9</th>\n",
       "      <th>ENSG00000213937.3</th>\n",
       "      <th>ENSG00000244113.1</th>\n",
       "      <th>ENSG00000265720.1</th>\n",
       "      <th>...</th>\n",
       "      <th>ENSG00000120992.17</th>\n",
       "      <th>ENSG00000167283.7</th>\n",
       "      <th>ENSG00000253676.1</th>\n",
       "      <th>ENSG00000206527.9</th>\n",
       "      <th>ENSG00000224698.1</th>\n",
       "      <th>ENSG00000236930.1</th>\n",
       "      <th>ENSG00000258227.6</th>\n",
       "      <th>ENSG00000122958.14</th>\n",
       "      <th>ENSG00000232431.3</th>\n",
       "      <th>ENSG00000259031.1</th>\n",
       "    </tr>\n",
       "  </thead>\n",
       "  <tbody>\n",
       "    <tr>\n",
       "      <th>ACCCACTTCTCGATGA</th>\n",
       "      <td>0</td>\n",
       "      <td>0</td>\n",
       "      <td>0</td>\n",
       "      <td>0</td>\n",
       "      <td>1</td>\n",
       "      <td>0</td>\n",
       "      <td>0</td>\n",
       "      <td>0</td>\n",
       "      <td>0</td>\n",
       "      <td>0</td>\n",
       "      <td>...</td>\n",
       "      <td>0</td>\n",
       "      <td>9</td>\n",
       "      <td>0</td>\n",
       "      <td>1</td>\n",
       "      <td>0</td>\n",
       "      <td>0</td>\n",
       "      <td>0</td>\n",
       "      <td>1</td>\n",
       "      <td>0</td>\n",
       "      <td>0</td>\n",
       "    </tr>\n",
       "    <tr>\n",
       "      <th>GATCAGTTCAAACCGT</th>\n",
       "      <td>0</td>\n",
       "      <td>0</td>\n",
       "      <td>0</td>\n",
       "      <td>0</td>\n",
       "      <td>0</td>\n",
       "      <td>0</td>\n",
       "      <td>0</td>\n",
       "      <td>0</td>\n",
       "      <td>0</td>\n",
       "      <td>0</td>\n",
       "      <td>...</td>\n",
       "      <td>0</td>\n",
       "      <td>11</td>\n",
       "      <td>0</td>\n",
       "      <td>0</td>\n",
       "      <td>0</td>\n",
       "      <td>0</td>\n",
       "      <td>0</td>\n",
       "      <td>0</td>\n",
       "      <td>0</td>\n",
       "      <td>0</td>\n",
       "    </tr>\n",
       "    <tr>\n",
       "      <th>TGACTTTCAATGGATA</th>\n",
       "      <td>0</td>\n",
       "      <td>0</td>\n",
       "      <td>0</td>\n",
       "      <td>0</td>\n",
       "      <td>0</td>\n",
       "      <td>0</td>\n",
       "      <td>0</td>\n",
       "      <td>0</td>\n",
       "      <td>0</td>\n",
       "      <td>0</td>\n",
       "      <td>...</td>\n",
       "      <td>3</td>\n",
       "      <td>6</td>\n",
       "      <td>0</td>\n",
       "      <td>0</td>\n",
       "      <td>0</td>\n",
       "      <td>0</td>\n",
       "      <td>0</td>\n",
       "      <td>0</td>\n",
       "      <td>0</td>\n",
       "      <td>0</td>\n",
       "    </tr>\n",
       "    <tr>\n",
       "      <th>CAAGATCTCTTGGGTA</th>\n",
       "      <td>0</td>\n",
       "      <td>0</td>\n",
       "      <td>0</td>\n",
       "      <td>0</td>\n",
       "      <td>0</td>\n",
       "      <td>0</td>\n",
       "      <td>0</td>\n",
       "      <td>0</td>\n",
       "      <td>0</td>\n",
       "      <td>0</td>\n",
       "      <td>...</td>\n",
       "      <td>1</td>\n",
       "      <td>11</td>\n",
       "      <td>0</td>\n",
       "      <td>0</td>\n",
       "      <td>0</td>\n",
       "      <td>0</td>\n",
       "      <td>0</td>\n",
       "      <td>0</td>\n",
       "      <td>0</td>\n",
       "      <td>0</td>\n",
       "    </tr>\n",
       "    <tr>\n",
       "      <th>CATCCACGTCACCTAA</th>\n",
       "      <td>0</td>\n",
       "      <td>0</td>\n",
       "      <td>0</td>\n",
       "      <td>0</td>\n",
       "      <td>0</td>\n",
       "      <td>0</td>\n",
       "      <td>0</td>\n",
       "      <td>0</td>\n",
       "      <td>0</td>\n",
       "      <td>0</td>\n",
       "      <td>...</td>\n",
       "      <td>1</td>\n",
       "      <td>5</td>\n",
       "      <td>0</td>\n",
       "      <td>0</td>\n",
       "      <td>0</td>\n",
       "      <td>0</td>\n",
       "      <td>0</td>\n",
       "      <td>0</td>\n",
       "      <td>0</td>\n",
       "      <td>0</td>\n",
       "    </tr>\n",
       "  </tbody>\n",
       "</table>\n",
       "<p>5 rows × 60725 columns</p>\n",
       "</div>"
      ],
      "text/plain": [
       "Accession         ENSG00000180346.3  ENSG00000185800.11  ENSG00000255389.1  \\\n",
       "ACCCACTTCTCGATGA                  0                   0                  0   \n",
       "GATCAGTTCAAACCGT                  0                   0                  0   \n",
       "TGACTTTCAATGGATA                  0                   0                  0   \n",
       "CAAGATCTCTTGGGTA                  0                   0                  0   \n",
       "CATCCACGTCACCTAA                  0                   0                  0   \n",
       "\n",
       "Accession         ENSG00000147059.8  ENSG00000238045.9  ENSG00000056972.18  \\\n",
       "ACCCACTTCTCGATGA                  0                  1                   0   \n",
       "GATCAGTTCAAACCGT                  0                  0                   0   \n",
       "TGACTTTCAATGGATA                  0                  0                   0   \n",
       "CAAGATCTCTTGGGTA                  0                  0                   0   \n",
       "CATCCACGTCACCTAA                  0                  0                   0   \n",
       "\n",
       "Accession         ENSG00000198920.9  ENSG00000213937.3  ENSG00000244113.1  \\\n",
       "ACCCACTTCTCGATGA                  0                  0                  0   \n",
       "GATCAGTTCAAACCGT                  0                  0                  0   \n",
       "TGACTTTCAATGGATA                  0                  0                  0   \n",
       "CAAGATCTCTTGGGTA                  0                  0                  0   \n",
       "CATCCACGTCACCTAA                  0                  0                  0   \n",
       "\n",
       "Accession         ENSG00000265720.1  ...  ENSG00000120992.17  \\\n",
       "ACCCACTTCTCGATGA                  0  ...                   0   \n",
       "GATCAGTTCAAACCGT                  0  ...                   0   \n",
       "TGACTTTCAATGGATA                  0  ...                   3   \n",
       "CAAGATCTCTTGGGTA                  0  ...                   1   \n",
       "CATCCACGTCACCTAA                  0  ...                   1   \n",
       "\n",
       "Accession         ENSG00000167283.7  ENSG00000253676.1  ENSG00000206527.9  \\\n",
       "ACCCACTTCTCGATGA                  9                  0                  1   \n",
       "GATCAGTTCAAACCGT                 11                  0                  0   \n",
       "TGACTTTCAATGGATA                  6                  0                  0   \n",
       "CAAGATCTCTTGGGTA                 11                  0                  0   \n",
       "CATCCACGTCACCTAA                  5                  0                  0   \n",
       "\n",
       "Accession         ENSG00000224698.1  ENSG00000236930.1  ENSG00000258227.6  \\\n",
       "ACCCACTTCTCGATGA                  0                  0                  0   \n",
       "GATCAGTTCAAACCGT                  0                  0                  0   \n",
       "TGACTTTCAATGGATA                  0                  0                  0   \n",
       "CAAGATCTCTTGGGTA                  0                  0                  0   \n",
       "CATCCACGTCACCTAA                  0                  0                  0   \n",
       "\n",
       "Accession         ENSG00000122958.14  ENSG00000232431.3  ENSG00000259031.1  \n",
       "ACCCACTTCTCGATGA                   1                  0                  0  \n",
       "GATCAGTTCAAACCGT                   0                  0                  0  \n",
       "TGACTTTCAATGGATA                   0                  0                  0  \n",
       "CAAGATCTCTTGGGTA                   0                  0                  0  \n",
       "CATCCACGTCACCTAA                   0                  0                  0  \n",
       "\n",
       "[5 rows x 60725 columns]"
      ]
     },
     "execution_count": 23,
     "metadata": {},
     "output_type": "execute_result"
    }
   ],
   "source": [
    "adata.to_df().head()"
   ]
  },
  {
   "cell_type": "code",
   "execution_count": 7,
   "id": "34ba736b-6e6c-41d5-b8b7-276052b49fb6",
   "metadata": {},
   "outputs": [],
   "source": [
    "accessions = [adata.var.iloc[i].name for i in range(adata.n_vars)]"
   ]
  },
  {
   "cell_type": "code",
   "execution_count": 9,
   "id": "bb07a731-f0d9-4eb6-b6ce-428f7cb78d40",
   "metadata": {},
   "outputs": [
    {
     "data": {
      "text/plain": [
       "60725"
      ]
     },
     "execution_count": 9,
     "metadata": {},
     "output_type": "execute_result"
    }
   ],
   "source": [
    "len(accessions)"
   ]
  },
  {
   "cell_type": "code",
   "execution_count": 10,
   "id": "88580ef0-da39-491a-a822-45297a4fbf9b",
   "metadata": {},
   "outputs": [],
   "source": [
    "def remove_char(s):\n",
    "    for i in range(len(s)):\n",
    "        if s[i].isnumeric():\n",
    "            return s[i:]\n",
    "    return s[4:]"
   ]
  },
  {
   "cell_type": "code",
   "execution_count": 11,
   "id": "da1c720e-e088-4b81-a5d3-0e07da21976e",
   "metadata": {},
   "outputs": [],
   "source": [
    "accs = [remove_char(s.split('.')[0]) for s in accessions]"
   ]
  },
  {
   "cell_type": "code",
   "execution_count": 16,
   "id": "e03c7582-395e-4379-9d5f-656a390b810d",
   "metadata": {},
   "outputs": [],
   "source": [
    "inds = np.arange(len(accs))\n",
    "np.random.shuffle(inds)"
   ]
  },
  {
   "cell_type": "code",
   "execution_count": 17,
   "id": "45262793-8ab7-42bb-a0c0-c23bef9189d4",
   "metadata": {},
   "outputs": [],
   "source": [
    "cutoff = ceil(len(inds)*0.8)\n",
    "train_inds = inds[:cutoff]\n",
    "test_inds  = inds[cutoff:]"
   ]
  },
  {
   "cell_type": "code",
   "execution_count": 18,
   "id": "3ae5939f-05d9-4fca-9cd8-3d6089f99cd0",
   "metadata": {},
   "outputs": [
    {
     "data": {
      "text/plain": [
       "48580"
      ]
     },
     "execution_count": 18,
     "metadata": {},
     "output_type": "execute_result"
    }
   ],
   "source": [
    "len(train_inds)"
   ]
  },
  {
   "cell_type": "code",
   "execution_count": 19,
   "id": "aa26f079-6584-489f-923a-fc5f6fbefecd",
   "metadata": {},
   "outputs": [
    {
     "data": {
      "text/plain": [
       "12145"
      ]
     },
     "execution_count": 19,
     "metadata": {},
     "output_type": "execute_result"
    }
   ],
   "source": [
    "len(test_inds)"
   ]
  },
  {
   "cell_type": "code",
   "execution_count": 22,
   "id": "752d19f6-3fc9-4929-ad83-f1b43fd3b0c3",
   "metadata": {},
   "outputs": [],
   "source": [
    "np.save(\"train_inds.npy\", train_inds)\n",
    "np.save(\"test_inds.npy\", test_inds)"
   ]
  },
  {
   "cell_type": "code",
   "execution_count": null,
   "id": "cbfa5e97-9e77-422f-98ae-3e4650bdece9",
   "metadata": {},
   "outputs": [],
   "source": []
  }
 ],
 "metadata": {
  "kernelspec": {
   "display_name": "geneformer_env",
   "language": "python",
   "name": "geneformer_env"
  },
  "language_info": {
   "codemirror_mode": {
    "name": "ipython",
    "version": 3
   },
   "file_extension": ".py",
   "mimetype": "text/x-python",
   "name": "python",
   "nbconvert_exporter": "python",
   "pygments_lexer": "ipython3",
   "version": "3.11.5"
  }
 },
 "nbformat": 4,
 "nbformat_minor": 5
}
