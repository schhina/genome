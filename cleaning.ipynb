{
 "cells": [
  {
   "cell_type": "code",
   "execution_count": 1,
   "id": "04fa27c2-a018-49ab-9d71-fd9ff974242f",
   "metadata": {},
   "outputs": [],
   "source": [
    "import numpy as np\n",
    "import pandas as pd\n",
    "import anndata as ad\n",
    "from math import ceil\n",
    "\n",
    "# First part of this notebook:\n",
    "# Goal of this dataset is to merge the cleaned/parsed matrix data (generated in convert_mat and concat_mat) with the stimulation data\n",
    "# from fig6 into one anndata object\n",
    "\n",
    "# Second part of this notebook:\n",
    "# Extracts active cells"
   ]
  },
  {
   "cell_type": "markdown",
   "id": "a6c0ec62",
   "metadata": {},
   "source": [
    "## First part of notebook\n",
    "Labeling stimulation status"
   ]
  },
  {
   "cell_type": "code",
   "execution_count": 2,
   "id": "c63788d9-753a-4157-9ea5-e7eb27ae8ee3",
   "metadata": {},
   "outputs": [
    {
     "name": "stderr",
     "output_type": "stream",
     "text": [
      "/u/home/s/schhina/.conda/envs/geneformer_env/lib/python3.11/site-packages/anndata/_core/anndata.py:1906: UserWarning: Observation names are not unique. To make them unique, call `.obs_names_make_unique`.\n",
      "  utils.warn_names_duplicates(\"obs\")\n"
     ]
    }
   ],
   "source": [
    "adata = ad.read_h5ad('/u/scratch/s/schhina/all_t_cell_data.h5ad')"
   ]
  },
  {
   "cell_type": "code",
   "execution_count": 3,
   "id": "3557a54e-d754-45c3-aa10-01cf0ca53f30",
   "metadata": {},
   "outputs": [
    {
     "data": {
      "text/plain": [
       "AnnData object with n_obs × n_vars = 63861 × 60725"
      ]
     },
     "execution_count": 3,
     "metadata": {},
     "output_type": "execute_result"
    }
   ],
   "source": [
    "adata"
   ]
  },
  {
   "cell_type": "code",
   "execution_count": 4,
   "id": "b5e917eb-c14f-405e-8b90-979a272c6b99",
   "metadata": {},
   "outputs": [],
   "source": [
    "act_data_path = '/u/scratch/s/schhina/41467_2019_12464_MOESM9_ESM.xlsx'\n",
    "\n",
    "def get_stimulation():\n",
    "    \"\"\"\n",
    "    Parse the T Cell figure data for a mapping between cell barcodes and their stimulation status and cd status, also remove duplicate barcodes\n",
    "\n",
    "    Returns:\n",
    "    - barcode_acts: Dictionary mapping barcodes to stimulation_status\n",
    "    - barcode_cds:  Dictionary mapping barcodes to cd4 or cd8 status\n",
    "    - dups:         Set containing all barcodes found more than once in dataset\n",
    "    \"\"\"\n",
    "    barcode_acts = {}\n",
    "    dups = set()\n",
    "    barcode_cds = {}\n",
    "    \n",
    "    df = pd.read_excel(act_data_path, sheet_name=\"Fig6\")\n",
    "    i = 0\n",
    "    for barcode, act, cd in zip(df['barcode'], df['stimulation_status'], df['cd4cd8_status']):\n",
    "        if cd == 'unassigned':\n",
    "            continue\n",
    "            \n",
    "        if barcode in barcode_acts:\n",
    "            dups.add(barcode)\n",
    "            del barcode_acts[barcode]\n",
    "            del barcode_cds[barcode]\n",
    "        elif barcode not in dups:\n",
    "            barcode_acts[barcode] = act\n",
    "            barcode_cds[barcode] = cd\n",
    "\n",
    "        i += 1\n",
    "    return barcode_acts, barcode_cds, dups"
   ]
  },
  {
   "cell_type": "code",
   "execution_count": 5,
   "id": "4cce67ca-389c-4f3d-ab65-5160db73cbce",
   "metadata": {},
   "outputs": [],
   "source": [
    "acts, cds, dups = get_stimulation()"
   ]
  },
  {
   "cell_type": "code",
   "execution_count": 6,
   "id": "803ba2a7-09fe-435e-ace8-8e725b0bb11c",
   "metadata": {},
   "outputs": [
    {
     "data": {
      "text/plain": [
       "47726"
      ]
     },
     "execution_count": 6,
     "metadata": {},
     "output_type": "execute_result"
    }
   ],
   "source": [
    "len(acts)"
   ]
  },
  {
   "cell_type": "code",
   "execution_count": 7,
   "id": "c81d444b-decf-40af-b983-cbc9e230db38",
   "metadata": {},
   "outputs": [],
   "source": [
    "seen = set()\n",
    "def add(bc, i):\n",
    "    seen.add(bc)\n",
    "    return i"
   ]
  },
  {
   "cell_type": "code",
   "execution_count": 8,
   "id": "0dd3f7c2-df99-44ef-99f0-00672034cd8f",
   "metadata": {},
   "outputs": [],
   "source": [
    "# Trim duplicates\n",
    "valid_inds = np.array([add(adata.obs.iloc[x].name, x) for x in np.arange(adata.n_obs) if (adata.obs.iloc[x].name not in dups and adata.obs.iloc[x].name in acts and adata.obs.iloc[x].name not in seen)])\n",
    "adata = ad.AnnData(adata.to_df().iloc[valid_inds, :])"
   ]
  },
  {
   "cell_type": "code",
   "execution_count": 9,
   "id": "38572cad-22f2-4339-a427-a9f94cfc18be",
   "metadata": {},
   "outputs": [],
   "source": [
    "# Label stimulation value\n",
    "adata.obs['stimulation'] = [acts[bc] for bc, v in adata.obs.iterrows()]"
   ]
  },
  {
   "cell_type": "code",
   "execution_count": 10,
   "id": "cfc58b90-f7db-4bb2-9e54-cdc9a3c6bae8",
   "metadata": {},
   "outputs": [],
   "source": [
    "# Label cd status\n",
    "adata.obs['cd_status'] = [cds[bc] for bc, v in adata.obs.iterrows()]"
   ]
  },
  {
   "cell_type": "code",
   "execution_count": 12,
   "id": "08ad98ef-3bd2-43c7-b7da-36f6e81a17f1",
   "metadata": {},
   "outputs": [],
   "source": [
    "adata.write(\"/u/scratch/s/schhina/labeled_t_cell_data.h5ad\")"
   ]
  },
  {
   "cell_type": "code",
   "execution_count": 13,
   "id": "f9672815-3ff9-4a95-b4e8-ba3c3a54af93",
   "metadata": {},
   "outputs": [
    {
     "data": {
      "text/plain": [
       "AnnData object with n_obs × n_vars = 47726 × 58828\n",
       "    obs: 'stimulation', 'cd_status'"
      ]
     },
     "execution_count": 13,
     "metadata": {},
     "output_type": "execute_result"
    }
   ],
   "source": [
    "adata"
   ]
  },
  {
   "cell_type": "markdown",
   "id": "275f5ccc",
   "metadata": {},
   "source": [
    "## Second part of notebook\n",
    "Extract only active cells"
   ]
  },
  {
   "cell_type": "code",
   "execution_count": 11,
   "id": "fbf903db-6229-4b17-ae74-b9ac3f89b5a3",
   "metadata": {},
   "outputs": [],
   "source": [
    "# Get only active cells\n",
    "valid_inds = np.array([i for i in np.arange(adata.n_obs) if acts[adata.obs.iloc[i].name] == 'act'])\n",
    "active_adata = ad.AnnData(adata.to_df().iloc[valid_inds, :])"
   ]
  },
  {
   "cell_type": "code",
   "execution_count": 12,
   "id": "5ce8786e-c5b9-4359-b9e8-ca68f1cf0876",
   "metadata": {},
   "outputs": [
    {
     "data": {
      "text/plain": [
       "AnnData object with n_obs × n_vars = 24761 × 58828"
      ]
     },
     "execution_count": 12,
     "metadata": {},
     "output_type": "execute_result"
    }
   ],
   "source": [
    "active_adata"
   ]
  },
  {
   "cell_type": "code",
   "execution_count": 13,
   "id": "ffa5f2fd-6e62-4116-877a-b43789ebe333",
   "metadata": {},
   "outputs": [
    {
     "ename": "NameError",
     "evalue": "name 'active_adata' is not defined",
     "output_type": "error",
     "traceback": [
      "\u001b[0;31m---------------------------------------------------------------------------\u001b[0m",
      "\u001b[0;31mNameError\u001b[0m                                 Traceback (most recent call last)",
      "Cell \u001b[0;32mIn[13], line 1\u001b[0m\n\u001b[0;32m----> 1\u001b[0m active_adata\u001b[38;5;241m.\u001b[39mwrite(\u001b[38;5;124m\"\u001b[39m\u001b[38;5;124m/u/scratch/s/schhina/labeled_active_t_cell_data.h5ad\u001b[39m\u001b[38;5;124m\"\u001b[39m)\n",
      "\u001b[0;31mNameError\u001b[0m: name 'active_adata' is not defined"
     ]
    }
   ],
   "source": [
    "active_adata.write(\"/u/scratch/s/schhina/labeled_active_t_cell_data.h5ad\")"
   ]
  }
 ],
 "metadata": {
  "kernelspec": {
   "display_name": "geneformer_env",
   "language": "python",
   "name": "geneformer_env"
  },
  "language_info": {
   "codemirror_mode": {
    "name": "ipython",
    "version": 3
   },
   "file_extension": ".py",
   "mimetype": "text/x-python",
   "name": "python",
   "nbconvert_exporter": "python",
   "pygments_lexer": "ipython3",
   "version": "3.11.5"
  }
 },
 "nbformat": 4,
 "nbformat_minor": 5
}
