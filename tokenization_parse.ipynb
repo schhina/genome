{
 "cells": [
  {
   "cell_type": "code",
   "execution_count": 61,
   "id": "9d4f06ee-4fbb-4ce8-a7b4-1e2143dfa6e2",
   "metadata": {},
   "outputs": [],
   "source": [
    "from datasets import load_from_disk\n",
    "import pickle\n",
    "from collections import defaultdict\n",
    "\n",
    "data_path = \"/u/scratch/s/schhina/temp_token/geneformer_tokenized_data/Q_data_.dataset\""
   ]
  },
  {
   "cell_type": "code",
   "execution_count": 5,
   "id": "4198f1cc-323c-4350-aa43-7e2483ccf8d7",
   "metadata": {},
   "outputs": [],
   "source": [
    "d = load_from_disk(data_path)"
   ]
  },
  {
   "cell_type": "code",
   "execution_count": 19,
   "id": "587b0f12-1f1d-402b-ac9d-d662265f0e64",
   "metadata": {},
   "outputs": [
    {
     "name": "stdout",
     "output_type": "stream",
     "text": [
      "(47726, 3)\n"
     ]
    }
   ],
   "source": [
    "print(d.shape)"
   ]
  },
  {
   "cell_type": "code",
   "execution_count": null,
   "id": "2e036b77-87d3-451d-9216-25d54cc92ef5",
   "metadata": {
    "collapsed": true,
    "jupyter": {
     "outputs_hidden": true
    },
    "tags": []
   },
   "outputs": [],
   "source": [
    "ids = defaultdict(lambda : [0, 0]) # id : (n_act, n_rest)\n",
    "for i in range(len(d)):\n",
    "    if (i % 100 == 0):\n",
    "        print(i)\n",
    "    for gene_id in d[i]['input_ids']:\n",
    "        if d[i]['stimulation'] == 'act':\n",
    "            ids[gene_id][0] += 1\n",
    "        else:\n",
    "            ids[gene_id][1] += 1"
   ]
  },
  {
   "cell_type": "code",
   "execution_count": 73,
   "id": "83844976-3fd9-467c-a4b1-19ed14ec8760",
   "metadata": {},
   "outputs": [],
   "source": [
    "relative_ids = {}\n",
    "for input_id in ids.keys():\n",
    "    if (ids[input_id][0] + ids[input_id][1]) < 500:\n",
    "        continue\n",
    "    relative_ids[input_id] = (ids[input_id][0])/(ids[input_id][0] + ids[input_id][1])"
   ]
  },
  {
   "cell_type": "code",
   "execution_count": 74,
   "id": "d70ff43b-247d-4a4f-9741-993a64305865",
   "metadata": {},
   "outputs": [],
   "source": [
    "sorted_ids = sorted([(per, i) for i, per in relative_ids.items()])"
   ]
  },
  {
   "cell_type": "code",
   "execution_count": 75,
   "id": "d1eb3248-5df7-4c5d-b221-2b6d02ebe3db",
   "metadata": {},
   "outputs": [
    {
     "data": {
      "text/plain": [
       "[1194, 38]"
      ]
     },
     "execution_count": 75,
     "metadata": {},
     "output_type": "execute_result"
    }
   ],
   "source": [
    "ids[15008]"
   ]
  },
  {
   "cell_type": "code",
   "execution_count": 76,
   "id": "cf7db791-6dab-4aa8-ba4c-c57bc9d0141c",
   "metadata": {},
   "outputs": [],
   "source": [
    "good_ids = {}\n",
    "for per, input_id in sorted_ids[::-1]:\n",
    "    if per < .9 and per > 0.15:\n",
    "        continue\n",
    "    good_ids[input_id] = per"
   ]
  },
  {
   "cell_type": "code",
   "execution_count": 77,
   "id": "3e25667d-db6e-4178-b772-5edd24ed5931",
   "metadata": {},
   "outputs": [],
   "source": [
    "token_dictionary_file = \"/u/home/s/schhina/.conda/envs/geneformer_env/lib/python3.11/site-packages/geneformer/token_dictionary.pkl\"\n",
    "with open(token_dictionary_file, \"rb\") as f:\n",
    "    gene_token_dict = pickle.load(f)\n",
    "\n",
    "token_gene_dict = {v: k for k, v in gene_token_dict.items()}"
   ]
  },
  {
   "cell_type": "code",
   "execution_count": 78,
   "id": "8c803dc3-c152-451b-8363-0c155f63c4a0",
   "metadata": {},
   "outputs": [],
   "source": [
    "genes = {}\n",
    "for input_id in good_ids.keys():\n",
    "    genes[token_gene_dict[input_id]] = good_ids[input_id]"
   ]
  },
  {
   "cell_type": "code",
   "execution_count": 79,
   "id": "135e7e1b-1478-407b-bd0c-7c134ea16ac7",
   "metadata": {},
   "outputs": [
    {
     "data": {
      "text/plain": [
       "{'ENSG00000183010': 0.9691558441558441,\n",
       " 'ENSG00000273604': 0.9627507163323782,\n",
       " 'ENSG00000102471': 0.9584487534626038,\n",
       " 'ENSG00000099985': 0.9474412171507607,\n",
       " 'ENSG00000114737': 0.9418738049713193,\n",
       " 'ENSG00000143333': 0.9397810218978102,\n",
       " 'ENSG00000135069': 0.9310897435897436,\n",
       " 'ENSG00000104951': 0.9290657439446367,\n",
       " 'ENSG00000113749': 0.9285714285714286,\n",
       " 'ENSG00000277632': 0.924924924924925,\n",
       " 'ENSG00000037897': 0.915282392026578,\n",
       " 'ENSG00000232810': 0.9147843942505134,\n",
       " 'ENSG00000120254': 0.9113345521023766,\n",
       " 'ENSG00000112578': 0.910904255319149,\n",
       " 'ENSG00000137265': 0.9077825159914712,\n",
       " 'ENSG00000011590': 0.904296875,\n",
       " 'ENSG00000184371': 0.9036144578313253,\n",
       " 'ENSG00000226979': 0.9015240328253223,\n",
       " 'ENSG00000110104': 0.9004092769440655,\n",
       " 'ENSG00000157514': 0.12789526686807653,\n",
       " 'ENSG00000165272': 0.1134453781512605,\n",
       " 'ENSG00000165650': 0.11016433353621424}"
      ]
     },
     "execution_count": 79,
     "metadata": {},
     "output_type": "execute_result"
    }
   ],
   "source": [
    "genes"
   ]
  }
 ],
 "metadata": {
  "kernelspec": {
   "display_name": "geneformer_env",
   "language": "python",
   "name": "geneformer_env"
  },
  "language_info": {
   "codemirror_mode": {
    "name": "ipython",
    "version": 3
   },
   "file_extension": ".py",
   "mimetype": "text/x-python",
   "name": "python",
   "nbconvert_exporter": "python",
   "pygments_lexer": "ipython3",
   "version": "3.11.5"
  }
 },
 "nbformat": 4,
 "nbformat_minor": 5
}
